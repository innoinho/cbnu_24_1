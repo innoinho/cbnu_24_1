{
 "cells": [
  {
   "cell_type": "code",
   "execution_count": 1,
   "id": "8ba33bab",
   "metadata": {},
   "outputs": [],
   "source": [
    "import re\n",
    "import pandas as pd\n",
    "import bs4\n",
    "import requests\n",
    "import spacy\n",
    "from spacy import displacy\n",
    "nlp = spacy.load('en_core_web_sm')\n",
    "\n",
    "from spacy.matcher import Matcher\n",
    "from spacy.tokens import Span\n",
    "\n",
    "import networkx as nx\n",
    "\n",
    "import matplotlib.pyplot as plt\n",
    "from tqdm import tqdm\n",
    "\n",
    "pd.set_option('display.max_colwidth', 200)\n",
    "%matplotlib inline"
   ]
  },
  {
   "cell_type": "code",
   "execution_count": 2,
   "id": "4b78007b",
   "metadata": {},
   "outputs": [
    {
     "data": {
      "text/plain": [
       "(4318, 1)"
      ]
     },
     "execution_count": 2,
     "metadata": {},
     "output_type": "execute_result"
    }
   ],
   "source": [
    "# wikipedia 문장 파일: https://github.com/phgunawan/Latihan-ML/blob/master/wiki_sentences_v2.csv\n",
    "candidate_sentences = pd.read_csv('wiki_sentences_v2.csv')\n",
    "candidate_sentences.shape"
   ]
  },
  {
   "cell_type": "code",
   "execution_count": 4,
   "id": "df500673",
   "metadata": {},
   "outputs": [],
   "source": [
    "def get_entities(sent):\n",
    "    ent1 = \"\"\n",
    "    ent2 = \"\"\n",
    "    prv_tok_dep = \"\"   # 문장에서 직전 토큰의 의존 파싱 태그\n",
    "    prv_tok_text = \"\"  # 문장에서 직전 토큰\n",
    "    prefix = \"\"\n",
    "    modifier = \"\"\n",
    "    for tok in nlp(sent):\n",
    "      # 토큰이 구두점(punctration mark)이면 다음 토큰으로 이동\n",
    "      if tok.dep_ != \"punct\":\n",
    "        if tok.dep_ == \"compound\": #토큰이 복합어인 경우\n",
    "           prefix = tok.text\n",
    "           if prv_tok.text_dep == \"compound\": #직전 토큰이 복합어이면 현재 토큰과 결합\n",
    "            prefix = prv_tok_text + \" \"+ tok.text\n",
    "        if tok.dep_.endswith(\"mod\") == True: #토큰이 수식어(modifier)인 경우\n",
    "           modifier = tok.text  \n",
    "           if prv_tok_dep == \"compound\": # 직전 토큰이 수식어이면 현재 토큰을 결합\n",
    "             modifier = prv_tok_text + \" \"+ tok.text\n",
    "                \n",
    "        if tok.dep_.find(\"subj\") == True: # 주어(subfect)인 경우,\n",
    "           ent1 = modifier +\" \"+ prefix + \" \"+ tok.text # 수식어와 현재 토큰 결합\n",
    "           prefix = \"\"\n",
    "           modifier = \"\"\n",
    "           prv_tok_dep = \"\"\n",
    "           prv_tok_text = \"\"\n",
    "        if tok.dep_.find(\"obj\") == True: # 목적어인 경우\n",
    "           ent2 = modifier +\" \"+ prefix +\" \"+ tok.text\n",
    "            \n",
    "        prv_tok_dep_ = tok.dep_    \n",
    "        prv_tok_text_ = tok.text      \n",
    "    return [ent1.strip(), ent2.strip()]   # 식별된 개체명 반환 "
   ]
  },
  {
   "cell_type": "code",
   "execution_count": 4,
   "id": "636f166f",
   "metadata": {},
   "outputs": [
    {
     "name": "stderr",
     "output_type": "stream",
     "text": [
      "  0%|                                                                                 | 4/4318 [00:00<02:39, 27.02it/s]\n"
     ]
    },
    {
     "ename": "NameError",
     "evalue": "name 'prv_tok' is not defined",
     "output_type": "error",
     "traceback": [
      "\u001b[1;31m---------------------------------------------------------------------------\u001b[0m",
      "\u001b[1;31mNameError\u001b[0m                                 Traceback (most recent call last)",
      "Cell \u001b[1;32mIn[4], line 4\u001b[0m\n\u001b[0;32m      1\u001b[0m entity_pairs \u001b[38;5;241m=\u001b[39m []\n\u001b[0;32m      3\u001b[0m \u001b[38;5;28;01mfor\u001b[39;00m i \u001b[38;5;129;01min\u001b[39;00m tqdm(candidate_sentences[\u001b[38;5;124m\"\u001b[39m\u001b[38;5;124msentence\u001b[39m\u001b[38;5;124m\"\u001b[39m]):\n\u001b[1;32m----> 4\u001b[0m    entity_pairs\u001b[38;5;241m.\u001b[39mappend(get_entities(i))\n",
      "Cell \u001b[1;32mIn[3], line 13\u001b[0m, in \u001b[0;36mget_entities\u001b[1;34m(sent)\u001b[0m\n\u001b[0;32m     11\u001b[0m \u001b[38;5;28;01mif\u001b[39;00m tok\u001b[38;5;241m.\u001b[39mdep_ \u001b[38;5;241m==\u001b[39m \u001b[38;5;124m\"\u001b[39m\u001b[38;5;124mcompound\u001b[39m\u001b[38;5;124m\"\u001b[39m: \u001b[38;5;66;03m#토큰이 복합어인 경우\u001b[39;00m\n\u001b[0;32m     12\u001b[0m   prefix \u001b[38;5;241m=\u001b[39m tok\u001b[38;5;241m.\u001b[39mtext\n\u001b[1;32m---> 13\u001b[0m   \u001b[38;5;28;01mif\u001b[39;00m prv_tok\u001b[38;5;241m.\u001b[39mtext_dep \u001b[38;5;241m==\u001b[39m \u001b[38;5;124m\"\u001b[39m\u001b[38;5;124mcompound\u001b[39m\u001b[38;5;124m\"\u001b[39m: \u001b[38;5;66;03m#직전 토큰이 복합어이면 현재 토큰과 결합\u001b[39;00m\n\u001b[0;32m     14\u001b[0m     prefix \u001b[38;5;241m=\u001b[39m prv_tok_text \u001b[38;5;241m+\u001b[39m \u001b[38;5;124m\"\u001b[39m\u001b[38;5;124m \u001b[39m\u001b[38;5;124m\"\u001b[39m\u001b[38;5;241m+\u001b[39m tok\u001b[38;5;241m.\u001b[39mtext\n\u001b[0;32m     15\u001b[0m \u001b[38;5;28;01mif\u001b[39;00m tok\u001b[38;5;241m.\u001b[39mdep_\u001b[38;5;241m.\u001b[39mendswith(\u001b[38;5;124m\"\u001b[39m\u001b[38;5;124mmod\u001b[39m\u001b[38;5;124m\"\u001b[39m) \u001b[38;5;241m==\u001b[39m \u001b[38;5;28;01mTrue\u001b[39;00m: \u001b[38;5;66;03m#토큰이 수식어(modifier)인 경우\u001b[39;00m\n",
      "\u001b[1;31mNameError\u001b[0m: name 'prv_tok' is not defined"
     ]
    }
   ],
   "source": [
    "entity_pairs = []\n",
    "\n",
    "for i in tqdm(candidate_sentences[\"sentence\"]):\n",
    "   entity_pairs.append(get_entities(i))"
   ]
  },
  {
   "cell_type": "code",
   "execution_count": 5,
   "id": "351976df",
   "metadata": {},
   "outputs": [
    {
     "ename": "NameError",
     "evalue": "name 'entity_pairs' is not defined",
     "output_type": "error",
     "traceback": [
      "\u001b[1;31m---------------------------------------------------------------------------\u001b[0m",
      "\u001b[1;31mNameError\u001b[0m                                 Traceback (most recent call last)",
      "Cell \u001b[1;32mIn[5], line 1\u001b[0m\n\u001b[1;32m----> 1\u001b[0m entity_pairs[\u001b[38;5;241m10\u001b[39m:\u001b[38;5;241m20\u001b[39m]\n",
      "\u001b[1;31mNameError\u001b[0m: name 'entity_pairs' is not defined"
     ]
    }
   ],
   "source": [
    "entity_pairs[10:20]"
   ]
  },
  {
   "cell_type": "code",
   "execution_count": 7,
   "id": "2e7b09d5",
   "metadata": {},
   "outputs": [],
   "source": [
    "def get_entities(sent):\n",
    "    ent1 = \"\"\n",
    "    ent2 = \"\"\n",
    "    prv_tok_dep = \"\"   # 문장에서 직전 토큰의 의존 파싱 태그\n",
    "    prv_tok_text = \"\"  # 문장에서 직전 토큰\n",
    "    prefix = \"\"\n",
    "    modifier = \"\"\n",
    "    for tok in nlp(sent):\n",
    "        # 토큰이 구두점(punctuation mark)이 아닌 경우에만 처리\n",
    "        if tok.dep_ != \"punct\":\n",
    "            if tok.dep_ == \"compound\": # 토큰이 복합어인 경우\n",
    "                prefix = tok.text\n",
    "                if prv_tok_dep == \"compound\": # 직전 토큰이 복합어이면 현재 토큰과 결합\n",
    "                    prefix = prv_tok_text + \" \"+ tok.text\n",
    "            if tok.dep_.endswith(\"mod\"): # 토큰이 수식어(modifier)인 경우\n",
    "                modifier = tok.text  \n",
    "                if prv_tok_dep == \"compound\": # 직전 토큰이 수식어이면 현재 토큰을 결합\n",
    "                    modifier = prv_tok_text + \" \"+ tok.text\n",
    "\n",
    "            if \"subj\" in tok.dep_: # 주어(subject)인 경우\n",
    "                ent1 = modifier +\" \"+ prefix + \" \"+ tok.text # 수식어와 현재 토큰 결합\n",
    "                prefix = \"\"\n",
    "                modifier = \"\"\n",
    "            if \"obj\" in tok.dep_: # 목적어(object)인 경우\n",
    "                ent2 = modifier +\" \"+ prefix +\" \"+ tok.text\n",
    "\n",
    "            prv_tok_dep = tok.dep_    \n",
    "            prv_tok_text = tok.text      \n",
    "    return [ent1.strip(), ent2.strip()]   # 식별된 개체명 반환 \n"
   ]
  },
  {
   "cell_type": "code",
   "execution_count": 8,
   "id": "61d3d2a6",
   "metadata": {},
   "outputs": [],
   "source": [
    "def get_relation(sent):\n",
    "    doc = nlp(sent)\n",
    "    matcher = Matcher(nlp.vocab)\n",
    "\n",
    "    # 패턴 정의\n",
    "    pattern = [{'DEP': 'ROOT'},\n",
    "               {'DEP': 'prep', 'OP': \"?\"},\n",
    "               {'DEP': 'agent', 'OP': \"?\"},\n",
    "               {'POS': 'ADJ', 'OP': \"?\"}]\n",
    "\n",
    "    matcher.add(\"matching_1\", None, pattern)\n",
    "    \n",
    "    matches = matcher(doc)\n",
    "    print('matches :', matches)\n",
    "    k = len(matches) - 1\n",
    "    \n",
    "    span = doc[matches[k][1]:matches[k][2]]\n",
    "    \n",
    "    return(span.text)"
   ]
  },
  {
   "cell_type": "code",
   "execution_count": 9,
   "id": "a74da519",
   "metadata": {},
   "outputs": [
    {
     "ename": "NameError",
     "evalue": "name 'get_relations' is not defined",
     "output_type": "error",
     "traceback": [
      "\u001b[1;31m---------------------------------------------------------------------------\u001b[0m",
      "\u001b[1;31mNameError\u001b[0m                                 Traceback (most recent call last)",
      "Cell \u001b[1;32mIn[9], line 1\u001b[0m\n\u001b[1;32m----> 1\u001b[0m get_relations(\u001b[38;5;124m\"\u001b[39m\u001b[38;5;124mJohn completed the task\u001b[39m\u001b[38;5;124m\"\u001b[39m)\n",
      "\u001b[1;31mNameError\u001b[0m: name 'get_relations' is not defined"
     ]
    }
   ],
   "source": [
    "get_relations(\"John completed the task\")"
   ]
  },
  {
   "cell_type": "code",
   "execution_count": null,
   "id": "c6652b1f",
   "metadata": {},
   "outputs": [],
   "source": []
  }
 ],
 "metadata": {
  "kernelspec": {
   "display_name": "Python 3 (ipykernel)",
   "language": "python",
   "name": "python3"
  },
  "language_info": {
   "codemirror_mode": {
    "name": "ipython",
    "version": 3
   },
   "file_extension": ".py",
   "mimetype": "text/x-python",
   "name": "python",
   "nbconvert_exporter": "python",
   "pygments_lexer": "ipython3",
   "version": "3.11.5"
  }
 },
 "nbformat": 4,
 "nbformat_minor": 5
}
